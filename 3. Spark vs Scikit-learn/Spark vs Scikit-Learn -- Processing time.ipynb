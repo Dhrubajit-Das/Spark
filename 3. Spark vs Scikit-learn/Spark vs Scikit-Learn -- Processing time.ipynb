{
 "cells": [
  {
   "cell_type": "markdown",
   "metadata": {},
   "source": [
    "### With PySpark"
   ]
  },
  {
   "cell_type": "code",
   "execution_count": 1,
   "metadata": {
    "collapsed": true
   },
   "outputs": [],
   "source": [
    "import pyspark\n",
    "from pyspark.sql import SparkSession\n",
    "spark = SparkSession.builder.appName('tree_models').getOrCreate()"
   ]
  },
  {
   "cell_type": "code",
   "execution_count": 2,
   "metadata": {
    "collapsed": false
   },
   "outputs": [
    {
     "name": "stdout",
     "output_type": "stream",
     "text": [
      "root\n",
      " |-- Time: decimal(10,0) (nullable = true)\n",
      " |-- V1: double (nullable = true)\n",
      " |-- V2: double (nullable = true)\n",
      " |-- V3: double (nullable = true)\n",
      " |-- V4: double (nullable = true)\n",
      " |-- V5: double (nullable = true)\n",
      " |-- V6: double (nullable = true)\n",
      " |-- V7: double (nullable = true)\n",
      " |-- V8: double (nullable = true)\n",
      " |-- V9: double (nullable = true)\n",
      " |-- V10: double (nullable = true)\n",
      " |-- V11: double (nullable = true)\n",
      " |-- V12: double (nullable = true)\n",
      " |-- V13: double (nullable = true)\n",
      " |-- V14: double (nullable = true)\n",
      " |-- V15: double (nullable = true)\n",
      " |-- V16: double (nullable = true)\n",
      " |-- V17: double (nullable = true)\n",
      " |-- V18: double (nullable = true)\n",
      " |-- V19: double (nullable = true)\n",
      " |-- V20: double (nullable = true)\n",
      " |-- V21: double (nullable = true)\n",
      " |-- V22: double (nullable = true)\n",
      " |-- V23: double (nullable = true)\n",
      " |-- V24: double (nullable = true)\n",
      " |-- V25: double (nullable = true)\n",
      " |-- V26: double (nullable = true)\n",
      " |-- V27: double (nullable = true)\n",
      " |-- V28: double (nullable = true)\n",
      " |-- Amount: double (nullable = true)\n",
      " |-- Class: integer (nullable = true)\n",
      "\n"
     ]
    }
   ],
   "source": [
    "data = spark.read.csv(\"C:\\\\Users\\\\DHRUBAJIT\\\\Desktop\\\\Kaggle Datasets\\\\creditcard.csv\", inferSchema=True, header=True)\n",
    "data.printSchema()"
   ]
  },
  {
   "cell_type": "code",
   "execution_count": 3,
   "metadata": {
    "collapsed": false
   },
   "outputs": [
    {
     "name": "stdout",
     "output_type": "stream",
     "text": [
      "+----+------------------+-------------------+------------------+-------------------+-------------------+-------------------+--------------------+-------------------+------------------+-------------------+------------------+------------------+-------------------+-------------------+-------------------+-------------------+--------------------+-------------------+-------------------+-------------------+--------------------+-------------------+-------------------+-------------------+-------------------+-------------------+--------------------+-------------------+------+-----+\n",
      "|Time|                V1|                 V2|                V3|                 V4|                 V5|                 V6|                  V7|                 V8|                V9|                V10|               V11|               V12|                V13|                V14|                V15|                V16|                 V17|                V18|                V19|                V20|                 V21|                V22|                V23|                V24|                V25|                V26|                 V27|                V28|Amount|Class|\n",
      "+----+------------------+-------------------+------------------+-------------------+-------------------+-------------------+--------------------+-------------------+------------------+-------------------+------------------+------------------+-------------------+-------------------+-------------------+-------------------+--------------------+-------------------+-------------------+-------------------+--------------------+-------------------+-------------------+-------------------+-------------------+-------------------+--------------------+-------------------+------+-----+\n",
      "|   0|  -1.3598071336738|-0.0727811733098497|  2.53634673796914|   1.37815522427443| -0.338320769942518|  0.462387777762292|   0.239598554061257| 0.0986979012610507| 0.363786969611213| 0.0907941719789316|-0.551599533260813|-0.617800855762348| -0.991389847235408| -0.311169353699879|   1.46817697209427| -0.470400525259478|   0.207971241929242| 0.0257905801985591|  0.403992960255733|  0.251412098239705|  -0.018306777944153|  0.277837575558899| -0.110473910188767| 0.0669280749146731|  0.128539358273528| -0.189114843888824|   0.133558376740387|-0.0210530534538215|149.62|    0|\n",
      "|   0|  1.19185711131486|   0.26615071205963|  0.16648011335321|  0.448154078460911| 0.0600176492822243|-0.0823608088155687| -0.0788029833323113| 0.0851016549148104|-0.255425128109186| -0.166974414004614|  1.61272666105479|  1.06523531137287|   0.48909501589608| -0.143772296441519|  0.635558093258208|  0.463917041022171|  -0.114804663102346| -0.183361270123994| -0.145783041325259|-0.0690831352230203|  -0.225775248033138| -0.638671952771851|  0.101288021253234| -0.339846475529127|  0.167170404418143|  0.125894532368176|-0.00898309914322813| 0.0147241691924927|  2.69|    0|\n",
      "|   1| -1.35835406159823|  -1.34016307473609|  1.77320934263119|  0.379779593034328| -0.503198133318193|   1.80049938079263|   0.791460956450422|  0.247675786588991| -1.51465432260583|  0.207642865216696| 0.624501459424895| 0.066083685268831|  0.717292731410831| -0.165945922763554|   2.34586494901581|  -2.89008319444231|    1.10996937869599| -0.121359313195888|  -2.26185709530414|  0.524979725224404|   0.247998153469754|  0.771679401917229|  0.909412262347719| -0.689280956490685| -0.327641833735251| -0.139096571514147| -0.0553527940384261|-0.0597518405929204|378.66|    0|\n",
      "|   1|-0.966271711572087| -0.185226008082898|  1.79299333957872| -0.863291275036453|-0.0103088796030823|   1.24720316752486|    0.23760893977178|  0.377435874652262| -1.38702406270197|-0.0549519224713749|-0.226487263835401| 0.178228225877303|  0.507756869957169|  -0.28792374549456| -0.631418117709045|   -1.0596472454325|  -0.684092786345479|   1.96577500349538|   -1.2326219700892| -0.208037781160366|  -0.108300452035545|0.00527359678253453| -0.190320518742841|  -1.17557533186321|  0.647376034602038| -0.221928844458407|  0.0627228487293033| 0.0614576285006353| 123.5|    0|\n",
      "|   2| -1.15823309349523|  0.877736754848451|    1.548717846511|  0.403033933955121| -0.407193377311653| 0.0959214624684256|   0.592940745385545| -0.270532677192282| 0.817739308235294|  0.753074431976354|-0.822842877946363|  0.53819555014995|    1.3458515932154|  -1.11966983471731|  0.175121130008994| -0.451449182813529|  -0.237033239362776|-0.0381947870352842|  0.803486924960175|  0.408542360392758|-0.00943069713232919|   0.79827849458971| -0.137458079619063|  0.141266983824769| -0.206009587619756|  0.502292224181569|   0.219422229513348|  0.215153147499206| 69.99|    0|\n",
      "|   2|-0.425965884412454|  0.960523044882985|  1.14110934232219| -0.168252079760302|   0.42098688077219|-0.0297275516639742|   0.476200948720027|  0.260314333074874| -0.56867137571251| -0.371407196834471|  1.34126198001957| 0.359893837038039| -0.358090652573631| -0.137133700217612|  0.517616806555742|  0.401725895589603| -0.0581328233640131| 0.0686531494425432|-0.0331937877876282| 0.0849676720682049|  -0.208253514656728| -0.559824796253248|-0.0263976679795373| -0.371426583174346| -0.232793816737034|  0.105914779097957|   0.253844224739337| 0.0810802569229443|  3.67|    0|\n",
      "|   4|  1.22965763450793|  0.141003507049326|0.0453707735899449|   1.20261273673594|  0.191880988597645|  0.272708122899098|-0.00515900288250983| 0.0812129398830894| 0.464959994783886|-0.0992543211289237| -1.41690724314928|-0.153825826253651|  -0.75106271556262|   0.16737196252175| 0.0501435942254188| -0.443586797916727| 0.00282051247234708|  -0.61198733994012|-0.0455750446637976|  -0.21963255278686|  -0.167716265815783| -0.270709726172363| -0.154103786809305| -0.780055415004671|   0.75013693580659| -0.257236845917139|  0.0345074297438413|0.00516776890624916|  4.99|    0|\n",
      "|   7|-0.644269442348146|   1.41796354547385|   1.0743803763556| -0.492199018495015|  0.948934094764157|  0.428118462833089|    1.12063135838353|  -3.80786423873589| 0.615374730667027|   1.24937617815176|-0.619467796121913| 0.291474353088705|   1.75796421396042|  -1.32386521970526|  0.686132504394383|-0.0761269994382006|    -1.2221273453247| -0.358221569869078|  0.324504731321494| -0.156741852488285|    1.94346533978412|  -1.01545470979971|  0.057503529867291| -0.649709005559993| -0.415266566234811|-0.0516342969262494|   -1.20692108094258|  -1.08533918832377|  40.8|    0|\n",
      "|   7| -0.89428608220282|  0.286157196276544|-0.113192212729871| -0.271526130088604|    2.6695986595986|   3.72181806112751|   0.370145127676916|  0.851084443200905|-0.392047586798604| -0.410430432848439|-0.705116586646536|-0.110452261733098| -0.286253632470583| 0.0743553603016731| -0.328783050303565| -0.210077268148783|  -0.499767968800267|  0.118764861004217|   0.57032816746536| 0.0527356691149697| -0.0734251001059225| -0.268091632235551| -0.204232669947878|    1.0115918018785|  0.373204680146282| -0.384157307702294|  0.0117473564581996|   0.14240432992147|  93.2|    0|\n",
      "|   9| -0.33826175242575|   1.11959337641566|  1.04436655157316| -0.222187276738296|   0.49936080649727|  -0.24676110061991|   0.651583206489972| 0.0695385865186387|-0.736727316364109| -0.366845639206541|  1.01761446783262| 0.836389570307029|   1.00684351373408| -0.443522816876142|  0.150219101422635|  0.739452777052119|  -0.540979921943059|   0.47667726004282|  0.451772964394125|  0.203711454727929|  -0.246913936910008| -0.633752642406113|  -0.12079408408185| -0.385049925313426|-0.0697330460416923| 0.0941988339514961|   0.246219304619926| 0.0830756493473326|  3.68|    0|\n",
      "|  10|  1.44904378114715|  -1.17633882535966| 0.913859832832795|  -1.37566665499943|  -1.97138316545323|  -0.62915213889734|    -1.4232356010359| 0.0484558879088564| -1.72040839292037|   1.62665905834133|   1.1996439495421|-0.671439778462005| -0.513947152539479|-0.0950450453999549|  0.230930409124119| 0.0319674667862076|   0.253414715863197|  0.854343814324194| -0.221365413645481| -0.387226474431156|-0.00930189652490052|  0.313894410791098| 0.0277401580170247|  0.500512287104917|   0.25136735874921| -0.129477953726618|  0.0428498709381461| 0.0162532619375515|   7.8|    0|\n",
      "|  10|  0.38497821518095|  0.616109459176472|-0.874299702595052|-0.0940186259679115|   2.92458437838817|   3.31702716826156|   0.470454671805879|   0.53824722837695|-0.558894612428441|   0.30975539423728|-0.259115563735702|-0.326143233995877|-0.0900467227020648|  0.362832368569793|  0.928903660629178| -0.129486811402759|  -0.809978925963589|  0.359985390219981|   0.70766382644648|   0.12599157561542|   0.049923685888971|  0.238421512225103|0.00912986861262866|  0.996710209581086| -0.767314827174801| -0.492208295340017|   0.042472441919027|-0.0543373883732122|  9.99|    0|\n",
      "|  10|    1.249998742053|  -1.22163680921816| 0.383930151282291|  -1.23489868766892|  -1.48541947377961| -0.753230164566149|  -0.689404975426345| -0.227487227519552| -2.09401057344842|   1.32372927445937| 0.227666231237246|-0.242681998944186|   1.20541680770748| -0.317630527025074|  0.725674990179153| -0.815612186027305|   0.873936447614439| -0.847788598847099| -0.683192626267037| -0.102755941505071|  -0.231809239223849| -0.483285330117712| 0.0846676908596583|  0.392830885335013|  0.161134553588505| -0.354990039673962|  0.0264155490776107| 0.0424220887282304| 121.5|    0|\n",
      "|  11|   1.0693735878819|  0.287722129331455| 0.828612726634281|   2.71252042961718| -0.178398016248009|  0.337543730282968| -0.0967168617395962|  0.115981735546597|-0.221082566236194|  0.460230444301678|-0.773656930526689|  0.32338724546722|-0.0110758870883779| -0.178485175177916|  -0.65556427824926|  -0.19992517131173|     0.1240054151819| -0.980496201537345| -0.982916082135047| -0.153197231044512| -0.0368755317335273| 0.0744124028162195|-0.0714074332998586|  0.104743752596029|  0.548264725394119|  0.104094153162781|  0.0214910583643189|  0.021293311477486|  27.5|    0|\n",
      "|  12|  -2.7918547659339| -0.327770756658658|  1.64175016056605|   1.76747274389883| -0.136588446465306|   0.80759646826532|  -0.422911389711497|  -1.90710747624096| 0.755712908314791|    1.1510869876677| 0.844555470974377|   0.7929439518176|  0.370448092803246| -0.734975105820311|  0.406795710431001| -0.303057623825763|  -0.155868714793874|  0.778265457041536|   2.22186801373788|  -1.58212204356551|    1.15166304848789|  0.222181966098225|   1.02058620426601| 0.0283166513238872| -0.232746324289105|  -0.23555721754117|   -0.16477751177654|-0.0301536365592253|  58.8|    0|\n",
      "|  12|-0.752417042956605|  0.345485415344747|  2.05732291276727|  -1.46864329840046|   -1.1583936804082|-0.0778498291166733|  -0.608581418236123|0.00360348436201849|-0.436166983515744|  0.747730827192802|-0.793980602837221|-0.770406728847129|   1.04762699748088|  -1.06660368148653|   1.10695345662141|   1.66011355713381|  -0.279265373246772| -0.419994141181313|  0.432535348618175|  0.263450864446125|   0.499624954671111|   1.35365048557231| -0.256573280448308|-0.0650837078816517|-0.0391243535426488|-0.0870864732146962|  -0.180997500092721|  0.129394059390202| 15.99|    0|\n",
      "|  12|  1.10321543528383|-0.0402962145973447|   1.2673320885949|   1.28909146962552| -0.735997163604068|  0.288069162976262|  -0.586056786337461|  0.189379713679593| 0.782332891785191| -0.267975066537173|-0.450311279515466| 0.936707714991982|  0.708380406186981| -0.468647287707221|  0.354574063407955| -0.246634655717582|-0.00921237772707382| -0.595912405700819|  -0.57568162226261| -0.113910176982092| -0.0246120063374677|  0.196001952806192| 0.0138016541409422|  0.103758331023198|  0.364297540595235| -0.382260574113217|   0.092809187460487| 0.0370505169810008| 12.99|    0|\n",
      "|  13|-0.436905071360625|  0.918966212909322|  0.92459077438817| -0.727219053596792|  0.915678718106307| -0.127867352079254|   0.707641607333935| 0.0879623554672504| -0.66527135413364| -0.737979823596458|  0.32409781346169| 0.277192107214981|  0.252624256310781| -0.291896460370468| -0.184520169327133|   1.14317370716197|   -0.92870926272403|  0.680469592634687| 0.0254364616880793|-0.0470212823165035|  -0.194795823794671| -0.672637997017793| -0.156857514491897| -0.888386320943716| -0.342413218776576| -0.049026728633951|  0.0796923991551505|  0.131023789452311|  0.89|    0|\n",
      "|  14| -5.40125766315825|  -5.45014783420644|  1.18630463143652|   1.73623880012095|   3.04910587764025|  -1.76340557365201|   -1.55973769907953|  0.160841747266769|  1.23308974041888|  0.345172827050629| 0.917229867699146| 0.970116716069048| -0.266567764915222| -0.479129929276704| -0.526608502569153|   0.47200411177674|  -0.725480944982201|  0.075081351540202| -0.406866573198217|  -2.19684802485647|  -0.503600328973703|  0.984459785590244|   2.45858857639219| 0.0421188969891572| -0.481630823956716| -0.621272013713977|   0.392053289557744|  0.949594245504846|  46.8|    0|\n",
      "|  15|   1.4929359769862|  -1.02934573189487|  0.45479473374366|  -1.43802587991702|  -1.55543410136344| -0.720961147043557|   -1.08066413038614|-0.0531271179483221|  -1.9786815953872|   1.63807603690446|  1.07754241162743| -0.63204651464934|  -0.41695716661602| 0.0520105153724404|-0.0429789228232019| -0.166432496451972|   0.304241418614353|  0.554432499062278| 0.0542295152184719| -0.387910172646258|  -0.177649846438814| -0.175073809074822| 0.0400022190621329|  0.295813862676508|   0.33293059939425| -0.220384850672322|  0.0222984359135846|0.00760225559997897|   5.0|    0|\n",
      "+----+------------------+-------------------+------------------+-------------------+-------------------+-------------------+--------------------+-------------------+------------------+-------------------+------------------+------------------+-------------------+-------------------+-------------------+-------------------+--------------------+-------------------+-------------------+-------------------+--------------------+-------------------+-------------------+-------------------+-------------------+-------------------+--------------------+-------------------+------+-----+\n",
      "only showing top 20 rows\n",
      "\n"
     ]
    }
   ],
   "source": [
    "data.show()"
   ]
  },
  {
   "cell_type": "code",
   "execution_count": 4,
   "metadata": {
    "collapsed": true
   },
   "outputs": [],
   "source": [
    "from pyspark.ml.feature import VectorAssembler\n",
    "assembler = VectorAssembler(inputCols=['V1',\n",
    " 'V2',\n",
    " 'V3',\n",
    " 'V4',\n",
    " 'V5',\n",
    " 'V6',\n",
    " 'V7',\n",
    " 'V8',\n",
    " 'V9',\n",
    " 'V10',\n",
    " 'V11',\n",
    " 'V12',\n",
    " 'V13',\n",
    " 'V14',\n",
    " 'V15',\n",
    " 'V16',\n",
    " 'V17',\n",
    " 'V18',\n",
    " 'V19',\n",
    " 'V20',\n",
    " 'V21',\n",
    " 'V22',\n",
    " 'V23',\n",
    " 'V24',\n",
    " 'V25',\n",
    " 'V26',\n",
    " 'V27',\n",
    " 'V28',], outputCol='Features')"
   ]
  },
  {
   "cell_type": "code",
   "execution_count": 5,
   "metadata": {
    "collapsed": false
   },
   "outputs": [
    {
     "name": "stdout",
     "output_type": "stream",
     "text": [
      "+--------------------+-------+\n",
      "|            Features| Target|\n",
      "+--------------------+-------+\n",
      "|[-1.3598071336738...|11917.0|\n",
      "|[1.19185711131486...|   17.0|\n",
      "|[-1.3583540615982...|17846.0|\n",
      "|[-0.9662717115720...| 2604.0|\n",
      "|[-1.1582330934952...|   69.0|\n",
      "|[-0.4259658844124...|  830.0|\n",
      "|[1.22965763450793...|   20.0|\n",
      "|[-0.6442694423481...| 1270.0|\n",
      "|[-0.8942860822028...| 5887.0|\n",
      "|[-0.3382617524257...|  842.0|\n",
      "|[1.44904378114715...|  437.0|\n",
      "|[0.38497821518095...|    3.0|\n",
      "|[1.249998742053,-...| 3567.0|\n",
      "|[1.0693735878819,...|  501.0|\n",
      "|[-2.7918547659339...| 2058.0|\n",
      "|[-0.7524170429566...|   97.0|\n",
      "|[1.10321543528383...|   25.0|\n",
      "|[-0.4369050713606...|    2.0|\n",
      "|[-5.4012576631582...| 1279.0|\n",
      "|[1.4929359769862,...|   15.0|\n",
      "+--------------------+-------+\n",
      "only showing top 20 rows\n",
      "\n"
     ]
    }
   ],
   "source": [
    "#transforming the data into vector....\n",
    "output = assembler.transform(data)\n",
    "\n",
    "#converting the categorical target variable \"Private\" into numeric....\n",
    "from pyspark.ml.feature import StringIndexer\n",
    "indexer = StringIndexer(inputCol='Amount',outputCol='Target')\n",
    "new_df = indexer.fit(output).transform(output)\n",
    "\n",
    "#final predictors and target variable....\n",
    "final_data = new_df.select(['Features','Target'])\n",
    "final_data.show()"
   ]
  },
  {
   "cell_type": "code",
   "execution_count": 14,
   "metadata": {
    "collapsed": false
   },
   "outputs": [],
   "source": [
    "from pyspark.ml.linalg import Vectors\n",
    "from pyspark.ml.feature import StringIndexer, VectorIndexer\n",
    "from pyspark.ml.regression import RandomForestRegressor\n",
    "from pyspark.ml.evaluation import RegressionEvaluator"
   ]
  },
  {
   "cell_type": "code",
   "execution_count": 7,
   "metadata": {
    "collapsed": false
   },
   "outputs": [
    {
     "name": "stdout",
     "output_type": "stream",
     "text": [
      "Time taken: 13.70 \n"
     ]
    }
   ],
   "source": [
    "rf_model = RandomForestRegressor(labelCol='Target', featuresCol='Features')\n",
    "\n",
    "import time  \n",
    "t0=time.time()\n",
    "rff_model = rf_model.fit(final_data)\n",
    "end_time = time.time() - t0\n",
    "print(\"Time taken: %.2f \" %(end_time))"
   ]
  },
  {
   "cell_type": "code",
   "execution_count": null,
   "metadata": {
    "collapsed": true
   },
   "outputs": [],
   "source": []
  },
  {
   "cell_type": "markdown",
   "metadata": {},
   "source": [
    "### With Scikit-Learn"
   ]
  },
  {
   "cell_type": "code",
   "execution_count": 8,
   "metadata": {
    "collapsed": true
   },
   "outputs": [],
   "source": [
    "import pandas as pd"
   ]
  },
  {
   "cell_type": "code",
   "execution_count": 9,
   "metadata": {
    "collapsed": false
   },
   "outputs": [
    {
     "data": {
      "text/html": [
       "<div>\n",
       "<table border=\"1\" class=\"dataframe\">\n",
       "  <thead>\n",
       "    <tr style=\"text-align: right;\">\n",
       "      <th></th>\n",
       "      <th>Time</th>\n",
       "      <th>V1</th>\n",
       "      <th>V2</th>\n",
       "      <th>V3</th>\n",
       "      <th>V4</th>\n",
       "      <th>V5</th>\n",
       "      <th>V6</th>\n",
       "      <th>V7</th>\n",
       "      <th>V8</th>\n",
       "      <th>V9</th>\n",
       "      <th>...</th>\n",
       "      <th>V21</th>\n",
       "      <th>V22</th>\n",
       "      <th>V23</th>\n",
       "      <th>V24</th>\n",
       "      <th>V25</th>\n",
       "      <th>V26</th>\n",
       "      <th>V27</th>\n",
       "      <th>V28</th>\n",
       "      <th>Amount</th>\n",
       "      <th>Class</th>\n",
       "    </tr>\n",
       "  </thead>\n",
       "  <tbody>\n",
       "    <tr>\n",
       "      <th>0</th>\n",
       "      <td>0.0</td>\n",
       "      <td>-1.359807</td>\n",
       "      <td>-0.072781</td>\n",
       "      <td>2.536347</td>\n",
       "      <td>1.378155</td>\n",
       "      <td>-0.338321</td>\n",
       "      <td>0.462388</td>\n",
       "      <td>0.239599</td>\n",
       "      <td>0.098698</td>\n",
       "      <td>0.363787</td>\n",
       "      <td>...</td>\n",
       "      <td>-0.018307</td>\n",
       "      <td>0.277838</td>\n",
       "      <td>-0.110474</td>\n",
       "      <td>0.066928</td>\n",
       "      <td>0.128539</td>\n",
       "      <td>-0.189115</td>\n",
       "      <td>0.133558</td>\n",
       "      <td>-0.021053</td>\n",
       "      <td>149.62</td>\n",
       "      <td>0</td>\n",
       "    </tr>\n",
       "    <tr>\n",
       "      <th>1</th>\n",
       "      <td>0.0</td>\n",
       "      <td>1.191857</td>\n",
       "      <td>0.266151</td>\n",
       "      <td>0.166480</td>\n",
       "      <td>0.448154</td>\n",
       "      <td>0.060018</td>\n",
       "      <td>-0.082361</td>\n",
       "      <td>-0.078803</td>\n",
       "      <td>0.085102</td>\n",
       "      <td>-0.255425</td>\n",
       "      <td>...</td>\n",
       "      <td>-0.225775</td>\n",
       "      <td>-0.638672</td>\n",
       "      <td>0.101288</td>\n",
       "      <td>-0.339846</td>\n",
       "      <td>0.167170</td>\n",
       "      <td>0.125895</td>\n",
       "      <td>-0.008983</td>\n",
       "      <td>0.014724</td>\n",
       "      <td>2.69</td>\n",
       "      <td>0</td>\n",
       "    </tr>\n",
       "    <tr>\n",
       "      <th>2</th>\n",
       "      <td>1.0</td>\n",
       "      <td>-1.358354</td>\n",
       "      <td>-1.340163</td>\n",
       "      <td>1.773209</td>\n",
       "      <td>0.379780</td>\n",
       "      <td>-0.503198</td>\n",
       "      <td>1.800499</td>\n",
       "      <td>0.791461</td>\n",
       "      <td>0.247676</td>\n",
       "      <td>-1.514654</td>\n",
       "      <td>...</td>\n",
       "      <td>0.247998</td>\n",
       "      <td>0.771679</td>\n",
       "      <td>0.909412</td>\n",
       "      <td>-0.689281</td>\n",
       "      <td>-0.327642</td>\n",
       "      <td>-0.139097</td>\n",
       "      <td>-0.055353</td>\n",
       "      <td>-0.059752</td>\n",
       "      <td>378.66</td>\n",
       "      <td>0</td>\n",
       "    </tr>\n",
       "    <tr>\n",
       "      <th>3</th>\n",
       "      <td>1.0</td>\n",
       "      <td>-0.966272</td>\n",
       "      <td>-0.185226</td>\n",
       "      <td>1.792993</td>\n",
       "      <td>-0.863291</td>\n",
       "      <td>-0.010309</td>\n",
       "      <td>1.247203</td>\n",
       "      <td>0.237609</td>\n",
       "      <td>0.377436</td>\n",
       "      <td>-1.387024</td>\n",
       "      <td>...</td>\n",
       "      <td>-0.108300</td>\n",
       "      <td>0.005274</td>\n",
       "      <td>-0.190321</td>\n",
       "      <td>-1.175575</td>\n",
       "      <td>0.647376</td>\n",
       "      <td>-0.221929</td>\n",
       "      <td>0.062723</td>\n",
       "      <td>0.061458</td>\n",
       "      <td>123.50</td>\n",
       "      <td>0</td>\n",
       "    </tr>\n",
       "    <tr>\n",
       "      <th>4</th>\n",
       "      <td>2.0</td>\n",
       "      <td>-1.158233</td>\n",
       "      <td>0.877737</td>\n",
       "      <td>1.548718</td>\n",
       "      <td>0.403034</td>\n",
       "      <td>-0.407193</td>\n",
       "      <td>0.095921</td>\n",
       "      <td>0.592941</td>\n",
       "      <td>-0.270533</td>\n",
       "      <td>0.817739</td>\n",
       "      <td>...</td>\n",
       "      <td>-0.009431</td>\n",
       "      <td>0.798278</td>\n",
       "      <td>-0.137458</td>\n",
       "      <td>0.141267</td>\n",
       "      <td>-0.206010</td>\n",
       "      <td>0.502292</td>\n",
       "      <td>0.219422</td>\n",
       "      <td>0.215153</td>\n",
       "      <td>69.99</td>\n",
       "      <td>0</td>\n",
       "    </tr>\n",
       "  </tbody>\n",
       "</table>\n",
       "<p>5 rows × 31 columns</p>\n",
       "</div>"
      ],
      "text/plain": [
       "   Time        V1        V2        V3        V4        V5        V6        V7  \\\n",
       "0   0.0 -1.359807 -0.072781  2.536347  1.378155 -0.338321  0.462388  0.239599   \n",
       "1   0.0  1.191857  0.266151  0.166480  0.448154  0.060018 -0.082361 -0.078803   \n",
       "2   1.0 -1.358354 -1.340163  1.773209  0.379780 -0.503198  1.800499  0.791461   \n",
       "3   1.0 -0.966272 -0.185226  1.792993 -0.863291 -0.010309  1.247203  0.237609   \n",
       "4   2.0 -1.158233  0.877737  1.548718  0.403034 -0.407193  0.095921  0.592941   \n",
       "\n",
       "         V8        V9  ...         V21       V22       V23       V24  \\\n",
       "0  0.098698  0.363787  ...   -0.018307  0.277838 -0.110474  0.066928   \n",
       "1  0.085102 -0.255425  ...   -0.225775 -0.638672  0.101288 -0.339846   \n",
       "2  0.247676 -1.514654  ...    0.247998  0.771679  0.909412 -0.689281   \n",
       "3  0.377436 -1.387024  ...   -0.108300  0.005274 -0.190321 -1.175575   \n",
       "4 -0.270533  0.817739  ...   -0.009431  0.798278 -0.137458  0.141267   \n",
       "\n",
       "        V25       V26       V27       V28  Amount  Class  \n",
       "0  0.128539 -0.189115  0.133558 -0.021053  149.62      0  \n",
       "1  0.167170  0.125895 -0.008983  0.014724    2.69      0  \n",
       "2 -0.327642 -0.139097 -0.055353 -0.059752  378.66      0  \n",
       "3  0.647376 -0.221929  0.062723  0.061458  123.50      0  \n",
       "4 -0.206010  0.502292  0.219422  0.215153   69.99      0  \n",
       "\n",
       "[5 rows x 31 columns]"
      ]
     },
     "execution_count": 9,
     "metadata": {},
     "output_type": "execute_result"
    }
   ],
   "source": [
    "data = pd.read_csv(\"C:\\\\Users\\\\DHRUBAJIT\\\\Desktop\\\\Kaggle Datasets\\\\creditcard.csv\")\n",
    "data.head()"
   ]
  },
  {
   "cell_type": "code",
   "execution_count": 10,
   "metadata": {
    "collapsed": false
   },
   "outputs": [],
   "source": [
    "data.drop(['Time','Class'],axis=1, inplace=True)"
   ]
  },
  {
   "cell_type": "code",
   "execution_count": 11,
   "metadata": {
    "collapsed": true
   },
   "outputs": [],
   "source": [
    "X = data.drop(['Amount'], axis=1)\n",
    "y = data['Amount']"
   ]
  },
  {
   "cell_type": "code",
   "execution_count": 18,
   "metadata": {
    "collapsed": false
   },
   "outputs": [
    {
     "name": "stdout",
     "output_type": "stream",
     "text": [
      "Time taken: 372.32 \n"
     ]
    }
   ],
   "source": [
    "from sklearn.ensemble import RandomForestRegressor\n",
    "rf = RandomForestRegressor()\n",
    "\n",
    "t1 = time.time()\n",
    "rf.fit(X,y)\n",
    "end_time1 = time.time() - t1\n",
    "print(\"Time taken: %.2f \" %(end_time1))"
   ]
  },
  {
   "cell_type": "code",
   "execution_count": 26,
   "metadata": {
    "collapsed": true
   },
   "outputs": [],
   "source": [
    "import matplotlib.pyplot as plt\n",
    "import seaborn \n",
    "%matplotlib inline"
   ]
  },
  {
   "cell_type": "code",
   "execution_count": 28,
   "metadata": {
    "collapsed": false
   },
   "outputs": [],
   "source": [
    "time_df = pd.DataFrame([13.7,272.3], index=['Spark','Scikit-Learn'])"
   ]
  },
  {
   "cell_type": "code",
   "execution_count": 29,
   "metadata": {
    "collapsed": false
   },
   "outputs": [
    {
     "data": {
      "text/html": [
       "<div>\n",
       "<table border=\"1\" class=\"dataframe\">\n",
       "  <thead>\n",
       "    <tr style=\"text-align: right;\">\n",
       "      <th></th>\n",
       "      <th>0</th>\n",
       "    </tr>\n",
       "  </thead>\n",
       "  <tbody>\n",
       "    <tr>\n",
       "      <th>Spark</th>\n",
       "      <td>13.7</td>\n",
       "    </tr>\n",
       "    <tr>\n",
       "      <th>Scikit-Learn</th>\n",
       "      <td>272.3</td>\n",
       "    </tr>\n",
       "  </tbody>\n",
       "</table>\n",
       "</div>"
      ],
      "text/plain": [
       "                  0\n",
       "Spark          13.7\n",
       "Scikit-Learn  272.3"
      ]
     },
     "execution_count": 29,
     "metadata": {},
     "output_type": "execute_result"
    }
   ],
   "source": [
    "time_df"
   ]
  },
  {
   "cell_type": "markdown",
   "metadata": {},
   "source": [
    "### Comparison"
   ]
  },
  {
   "cell_type": "code",
   "execution_count": 33,
   "metadata": {
    "collapsed": false
   },
   "outputs": [
    {
     "name": "stdout",
     "output_type": "stream",
     "text": [
      "Number of rows: 2,84,808\n",
      "Number of cols: 28\n"
     ]
    },
    {
     "data": {
      "text/plain": [
       "<matplotlib.legend.Legend at 0x879c68c518>"
      ]
     },
     "execution_count": 33,
     "metadata": {},
     "output_type": "execute_result"
    },
    {
     "data": {
      "image/png": "[encoded data removed]",
      "text/plain": [
       "<matplotlib.figure.Figure at 0x879c541198>"
      ]
     },
     "metadata": {},
     "output_type": "display_data"
    }
   ],
   "source": [
    "print(\"Number of rows: 2,84,808\")\n",
    "print(\"Number of cols: 28\")\n",
    "\n",
    "time_df.plot(kind='bar', rot=0, alpha=0.5, color='red')\n",
    "plt.title(\"Spark vs Scikit-Learn - training time\")\n",
    "plt.ylabel(\"Training time (s)\")\n",
    "plt.legend(\"\")"
   ]
  },
  {
   "cell_type": "code",
   "execution_count": null,
   "metadata": {
    "collapsed": true
   },
   "outputs": [],
   "source": []
  }
 ],
 "metadata": {
  "anaconda-cloud": {},
  "kernelspec": {
   "display_name": "Python [default]",
   "language": "python",
   "name": "python3"
  },
  "language_info": {
   "codemirror_mode": {
    "name": "ipython",
    "version": 3
   },
   "file_extension": ".py",
   "mimetype": "text/x-python",
   "name": "python",
   "nbconvert_exporter": "python",
   "pygments_lexer": "ipython3",
   "version": "3.5.2"
  }
 },
 "nbformat": 4,
 "nbformat_minor": 2
}
